{
 "cells": [
  {
   "cell_type": "markdown",
   "metadata": {},
   "source": [
    "MasterCamp TD Project"
   ]
  },
  {
   "cell_type": "raw",
   "metadata": {
    "vscode": {
     "languageId": "raw"
    }
   },
   "source": [
    "Id = code département (12) + code commune (13) + préfixe de section (14) + section (15) + date mutation (2)\n",
    "Temps = date mutation (2) \n",
    "Valeur = valeur foncière (4)\n",
    "Type = code type local (29)\n",
    "Surface = surface terrain (35) (+) surface réelle bâti (31)\n",
    "\n",
    "Idée algo\n",
    "Régression Linéaire:\n",
    "valeur/Id\n",
    "valeur/Type\n",
    "valeur/Surface\n",
    "valeur/Id*Temps\n",
    "valeur/Id*type\n",
    "valeur/Id*Surface\n",
    "Type/Id\n",
    "Surface/Id\n",
    "Surface/valeur\n",
    "Surface/Id*Valeur\n",
    "Dérivé Valeur (augmentation de valeur)/Temps\n",
    "Dérivé Valeur (augmentation de valeur)/Temps*Id\n",
    "Clustering:\n",
    "Type/Id\n",
    "Type/valeur\n",
    "Type/Surface\n",
    "\n",
    "Idée analyse \n",
    "Valeur moyenne/Id\n",
    "Valeur moyenne/temps*Id\n",
    "Valeur moyenne/temps*Id\n",
    "Valeur moyenne/Surface*Id\n",
    "Valeur moyenne/type\n",
    "Valeur moyenne/type*Id\n",
    "Valeur moyenne/type*temps\n",
    "Valeur moyenne/type*temps*id\n",
    "Surface moyenne/Id\n",
    "Surface moyenne/valeur\n",
    "Surface moyenne/type\n",
    "Surface moyenne/Id*valeur\n"
   ]
  },
  {
   "cell_type": "markdown",
   "metadata": {},
   "source": [
    "import all librairies"
   ]
  },
  {
   "cell_type": "code",
   "execution_count": 56,
   "metadata": {},
   "outputs": [],
   "source": [
    "import pandas as pd\n",
    "import matplotlib.pyplot as plt\n",
    "from sklearn.linear_model import LinearRegression\n",
    "from sklearn.metrics import mean_squared_error"
   ]
  },
  {
   "cell_type": "markdown",
   "metadata": {},
   "source": [
    "Get Database"
   ]
  },
  {
   "cell_type": "code",
   "execution_count": 118,
   "metadata": {},
   "outputs": [
    {
     "name": "stdout",
     "output_type": "stream",
     "text": [
      "   No disposition Date mutation Nature mutation  Valeur fonciere  \\\n",
      "0               1    05/01/2023           Vente        1070000.0   \n",
      "\n",
      "   Code departement  Code commune  Prefixe de section Section  No plan  \\\n",
      "0                 1           354                 NaN      BD      334   \n",
      "\n",
      "   No Volume  ... Surface Carrez du 4eme lot  5eme lot  \\\n",
      "0        NaN  ...                        NaN       NaN   \n",
      "\n",
      "  Surface Carrez du 5eme lot  Nombre de lots  Code type local  \\\n",
      "0                        NaN               1              3.0   \n",
      "\n",
      "   Surface reelle bati  Nombre pieces principales  Nature culture  \\\n",
      "0                  0.0                        0.0             NaN   \n",
      "\n",
      "   Nature culture speciale  Surface terrain  \n",
      "0                      NaN              NaN  \n",
      "\n",
      "[1 rows x 27 columns]\n"
     ]
    },
    {
     "name": "stderr",
     "output_type": "stream",
     "text": [
      "/var/folders/99/qp43l_f12z1_q8jvz93zddp00000gn/T/ipykernel_30522/978291523.py:1: DtypeWarning: Columns (24,26) have mixed types. Specify dtype option on import or set low_memory=False.\n",
      "  data=next(pd.read_csv(\"data/valeursfoncieres-2023.txt\",chunksize=100000,sep=\"|\",decimal=\",\"))\n"
     ]
    }
   ],
   "source": [
    "data=next(pd.read_csv(\"data/valeursfoncieres-2023.txt\",chunksize=100000,sep=\"|\",decimal=\",\"))\n",
    "data=data.drop([\"Identifiant de document\",\"Reference document\",\"1 Articles CGI\",\"2 Articles CGI\",\"3 Articles CGI\",\"4 Articles CGI\",\"5 Articles CGI\",\"Identifiant local\",\"Type de voie\",\"Voie\",\"B/T/Q\",\"Code voie\",\"Code postal\",\"Commune\",\"No voie\",\"Type local\"],axis=1)\n",
    "same=data.head(3)\n",
    "diff=data.head(5)\n",
    "print(data.head(1))"
   ]
  },
  {
   "cell_type": "code",
   "execution_count": 55,
   "metadata": {},
   "outputs": [
    {
     "name": "stdout",
     "output_type": "stream",
     "text": [
      "{'No disposition': 'Same', 'Date mutation': 'Same', 'Nature mutation': 'Same', 'Valeur fonciere': 'Same', 'Code departement': 'Same', 'Code commune': 'Same', 'Prefixe de section': 'Different', 'Section': 'Same', 'No plan': 'Different', 'No Volume': 'Different', '1er lot': 'Different', 'Surface Carrez du 1er lot': 'Different', '2eme lot': 'Different', 'Surface Carrez du 2eme lot': 'Different', '3eme lot': 'Different', 'Surface Carrez du 3eme lot': 'Different', '4eme lot': 'Different', 'Surface Carrez du 4eme lot': 'Different', '5eme lot': 'Different', 'Surface Carrez du 5eme lot': 'Different', 'Nombre de lots': 'Same', 'Code type local': 'Different', 'Surface reelle bati': 'Different', 'Nombre pieces principales': 'Different', 'Nature culture': 'Different', 'Nature culture speciale': 'Different', 'Surface terrain': 'Different'}\n",
      "{'No disposition': 'Same', 'Date mutation': 'Different', 'Nature mutation': 'Same', 'Valeur fonciere': 'Different', 'Code departement': 'Same', 'Code commune': 'Different', 'Prefixe de section': 'Different', 'Section': 'Different', 'No plan': 'Different', 'No Volume': 'Different', '1er lot': 'Different', 'Surface Carrez du 1er lot': 'Different', '2eme lot': 'Different', 'Surface Carrez du 2eme lot': 'Different', '3eme lot': 'Different', 'Surface Carrez du 3eme lot': 'Different', '4eme lot': 'Different', 'Surface Carrez du 4eme lot': 'Different', '5eme lot': 'Different', 'Surface Carrez du 5eme lot': 'Different', 'Nombre de lots': 'Different', 'Code type local': 'Different', 'Surface reelle bati': 'Different', 'Nombre pieces principales': 'Different', 'Nature culture': 'Same', 'Nature culture speciale': 'Different', 'Surface terrain': 'Different'}\n"
     ]
    }
   ],
   "source": [
    "def compare_column_values(df):\n",
    "    comparison_result = {}\n",
    "    for column in df.columns:\n",
    "        if df[column].nunique() == 1:\n",
    "            comparison_result[column] = 'Same'\n",
    "        else:\n",
    "            comparison_result[column] = 'Different'\n",
    "    return comparison_result\n",
    "\n",
    "# Compare the values in the selected subset\n",
    "comparison_result = compare_column_values(same)\n",
    "print(comparison_result)\n",
    "print(compare_column_values(diff))"
   ]
  },
  {
   "cell_type": "code",
   "execution_count": 63,
   "metadata": {},
   "outputs": [
    {
     "name": "stdout",
     "output_type": "stream",
     "text": [
      "No disposition                  int64\n",
      "Date mutation                  object\n",
      "Nature mutation                object\n",
      "Valeur fonciere               float64\n",
      "Code departement                int64\n",
      "Code commune                    int64\n",
      "Prefixe de section            float64\n",
      "Section                        object\n",
      "No plan                         int64\n",
      "No Volume                     float64\n",
      "1er lot                       float64\n",
      "Surface Carrez du 1er lot     float64\n",
      "2eme lot                      float64\n",
      "Surface Carrez du 2eme lot    float64\n",
      "3eme lot                      float64\n",
      "Surface Carrez du 3eme lot    float64\n",
      "4eme lot                      float64\n",
      "Surface Carrez du 4eme lot    float64\n",
      "5eme lot                      float64\n",
      "Surface Carrez du 5eme lot    float64\n",
      "Nombre de lots                  int64\n",
      "Code type local               float64\n",
      "Surface reelle bati           float64\n",
      "Nombre pieces principales     float64\n",
      "Nature culture                 object\n",
      "Nature culture speciale        object\n",
      "Surface terrain               float64\n",
      "dtype: object\n"
     ]
    }
   ],
   "source": [
    "print(data.dtypes)\n"
   ]
  },
  {
   "cell_type": "code",
   "execution_count": 99,
   "metadata": {},
   "outputs": [
    {
     "name": "stdout",
     "output_type": "stream",
     "text": [
      "    Code departement Code commune Prefixe de section Section Date mutation  \\\n",
      "269                1          354                         BD    05/01/2023   \n",
      "\n",
      "     Valeur fonciere  Surface_combined  Code type local                Id  \n",
      "269        1070000.0               0.0              3.0  1354BD05/01/2023  \n"
     ]
    }
   ],
   "source": [
    "desired_id=\"1354BD05/01/2023\"\n",
    "transaction_info = aggregated_data[aggregated_data['Id'] == desired_id]\n",
    "\n",
    "# Display the information of the transaction\n",
    "print(transaction_info)"
   ]
  },
  {
   "cell_type": "code",
   "execution_count": 112,
   "metadata": {},
   "outputs": [
    {
     "name": "stdout",
     "output_type": "stream",
     "text": [
      "     No disposition Date mutation Nature mutation  Valeur fonciere  \\\n",
      "369               1    09/01/2023           Vente           1000.0   \n",
      "\n",
      "     Code departement  Code commune  Prefixe de section Section  No plan  \\\n",
      "369                 1             2                 NaN      AC      490   \n",
      "\n",
      "     No Volume  ...  Surface Carrez du 4eme lot  5eme lot  \\\n",
      "369        NaN  ...                         NaN       NaN   \n",
      "\n",
      "     Surface Carrez du 5eme lot  Nombre de lots  Code type local  \\\n",
      "369                         NaN               0              NaN   \n",
      "\n",
      "     Surface reelle bati  Nombre pieces principales  Nature culture  \\\n",
      "369                  NaN                        NaN               P   \n",
      "\n",
      "     Nature culture speciale  Surface terrain  \n",
      "369                      NaN           2950.0  \n",
      "\n",
      "[1 rows x 27 columns]\n"
     ]
    }
   ],
   "source": [
    "desired_id=\"12AC09/01/2023\"\n",
    "code_departement=\"1\"\n",
    "code_commune=\"2\"\n",
    "Section=\"AC\"\n",
    "Date_mutation=\"09/01/2023\"\n",
    "transaction_info = data[data['Code departement'] == int(code_departement)]\n",
    "transaction_info = transaction_info[transaction_info['Code commune'] == int(code_commune)]\n",
    "transaction_info = transaction_info[transaction_info['Section'] == Section]\n",
    "transaction_info = transaction_info[transaction_info['Date mutation'] == Date_mutation]\n",
    "\n",
    "#transaction_info = data[data['Code commune'] == int(code_commune)]\n",
    "\n",
    "print(transaction_info)"
   ]
  },
  {
   "cell_type": "code",
   "execution_count": 119,
   "metadata": {},
   "outputs": [
    {
     "name": "stdout",
     "output_type": "stream",
     "text": [
      "  Code departement Code commune Prefixe de section Section Date mutation  \\\n",
      "0                1            1                          A    13/11/2023   \n",
      "1                1            1                          A    29/11/2023   \n",
      "2                1            1                          A    31/08/2023   \n",
      "3                1            1                         ZC    01/12/2023   \n",
      "4                1            1                         ZH    07/06/2023   \n",
      "\n",
      "   Valeur fonciere  Surface_combined  Code type local              Id  \n",
      "0         420000.0            4755.0              1.0   11A13/11/2023  \n",
      "1         195000.0               0.0              NaN   11A29/11/2023  \n",
      "2           3050.0               0.0              NaN   11A31/08/2023  \n",
      "3         155000.0            5540.0              1.0  11ZC01/12/2023  \n",
      "4         210000.0            1057.0              1.0  11ZH07/06/2023  \n"
     ]
    }
   ],
   "source": [
    "# Replace NaN values with empty strings for string columns\n",
    "data['Code departement'] = data['Code departement'].fillna('')\n",
    "data['Code commune'] = data['Code commune'].fillna('')\n",
    "data['Prefixe de section'] = data['Prefixe de section'].fillna('')\n",
    "data['Section'] = data['Section'].fillna('')\n",
    "data['Date mutation'] = data['Date mutation'].fillna('')\n",
    "\n",
    "# Convert necessary columns to appropriate data types\n",
    "data['Surface terrain'] = data['Surface terrain'].astype(float)\n",
    "data['Surface reelle bati'] = data['Surface reelle bati'].astype(float)\n",
    "\n",
    "# Calculate combined surface\n",
    "data['Surface_combined'] = data['Surface terrain'] + data['Surface reelle bati']\n",
    "\n",
    "# Group by relevant columns and aggregate the data\n",
    "aggregated_data = data.groupby(['Code departement', 'Code commune', 'Prefixe de section', 'Section', 'Date mutation']).agg({\n",
    "    'Valeur fonciere': 'mean',\n",
    "    'Surface_combined': 'sum',\n",
    "    'Code type local': 'min'  \n",
    "}).reset_index()\n",
    "\n",
    "# Convert aggregated columns to appropriate data types\n",
    "aggregated_data['Code departement'] = aggregated_data['Code departement'].astype(str)\n",
    "aggregated_data['Code commune'] = aggregated_data['Code commune'].astype(str)\n",
    "aggregated_data['Prefixe de section'] = aggregated_data['Prefixe de section'].astype(str)\n",
    "aggregated_data['Section'] = aggregated_data['Section'].astype(str)\n",
    "aggregated_data['Date mutation'] = aggregated_data['Date mutation'].astype(str)\n",
    "\n",
    "# Calculate Id\n",
    "aggregated_data['Id'] = aggregated_data['Code departement'] + aggregated_data['Code commune'] + aggregated_data['Prefixe de section'] + aggregated_data['Section'] + aggregated_data['Date mutation']\n",
    "\n",
    "# Print the first few rows to verify the result\n",
    "print(aggregated_data.head())\n"
   ]
  },
  {
   "cell_type": "code",
   "execution_count": null,
   "metadata": {},
   "outputs": [],
   "source": [
    "# Convert necessary columns to appropriate data types\n",
    "\n",
    "data['Valeur fonciere'] = data['Valeur fonciere'].astype(float)\n",
    "data['Surface terrain'] = data['Surface terrain'].astype(float)\n",
    "data['Surface reelle bati'] = data['Surface reelle bati'].astype(float)\n",
    "\n",
    "# Calculate combined surface\n",
    "data['Surface_combined'] = data['Surface terrain'] + data['Surface reelle bati']\n",
    "\n",
    "# Group by type and calculate average value\n",
    "average_values_by_type = data.groupby('Code type local')['Valeur fonciere'].mean()\n",
    "\n",
    "print(average_values_by_type)"
   ]
  },
  {
   "cell_type": "code",
   "execution_count": 120,
   "metadata": {},
   "outputs": [
    {
     "name": "stdout",
     "output_type": "stream",
     "text": [
      "Code departement\n",
      "1    227904.802932\n",
      "2    121465.017060\n",
      "3     96865.585903\n",
      "Name: Valeur fonciere, dtype: float64\n"
     ]
    }
   ],
   "source": [
    "# Convert necessary columns to appropriate data types\n",
    "\n",
    "aggregated_data['Valeur fonciere'] = aggregated_data['Valeur fonciere'].astype(float)\n",
    "\n",
    "\n",
    "# Group by type and calculate average value\n",
    "average_values_by_departement = aggregated_data.groupby('Code departement')['Valeur fonciere'].mean()\n",
    "\n",
    "print(average_values_by_departement)"
   ]
  },
  {
   "cell_type": "code",
   "execution_count": null,
   "metadata": {},
   "outputs": [],
   "source": [
    "\"\"\"\n",
    "df=pd.read_csv(\"length_of_stay.csv\")\n",
    "\n",
    "model = LinearRegression()\n",
    "\n",
    "X=df[[\"bmi\",\"age\"]]\n",
    "y=df[\"length_of_stay\"]\n",
    "\n",
    "model.fit(X,y)\n",
    "\n",
    "y_pred=model.predict(X)\n",
    "\n",
    "mse=mean_squared_error(y,y_pred)\n",
    "print(mse)\n",
    "\n",
    "print(model.coef_)\n",
    "\"\"\"\n"
   ]
  }
 ],
 "metadata": {
  "kernelspec": {
   "display_name": "Python 3",
   "language": "python",
   "name": "python3"
  },
  "language_info": {
   "codemirror_mode": {
    "name": "ipython",
    "version": 3
   },
   "file_extension": ".py",
   "mimetype": "text/x-python",
   "name": "python",
   "nbconvert_exporter": "python",
   "pygments_lexer": "ipython3",
   "version": "3.11.7"
  }
 },
 "nbformat": 4,
 "nbformat_minor": 2
}
