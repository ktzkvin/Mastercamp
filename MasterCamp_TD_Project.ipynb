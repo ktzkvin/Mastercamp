{
 "cells": [
  {
   "metadata": {},
   "cell_type": "markdown",
   "source": [
    "Mastercamp TD project\n",
    "\n",
    "Import all libraries"
   ]
  },
  {
   "metadata": {
    "ExecuteTime": {
     "end_time": "2024-06-11T10:28:09.476993Z",
     "start_time": "2024-06-11T10:28:09.202226Z"
    }
   },
   "cell_type": "code",
   "source": [
    "import pandas as pd\n",
    "import matplotlib.pyplot as plt\n",
    "from sklearn.linear_model import LinearRegression\n",
    "from sklearn.metrics import mean_squared_error\n",
    "import seaborn as sns\n",
    "import geopandas as gpd"
   ],
   "outputs": [],
   "execution_count": 19
  },
  {
   "cell_type": "markdown",
   "metadata": {},
   "source": [
    "Get Database\n",
    "\n"
   ]
  },
  {
   "metadata": {
    "ExecuteTime": {
     "end_time": "2024-06-11T09:57:43.277080Z",
     "start_time": "2024-06-11T09:57:43.049342Z"
    }
   },
   "cell_type": "code",
   "source": [
    "data=next(pd.read_csv(\"data/valeursfoncieres-2023.txt\",chunksize=100000,sep=\"|\",decimal=\",\"))\n",
    "data=data.drop([\"Identifiant de document\",\"Reference document\",\"1 Articles CGI\",\"2 Articles CGI\",\"3 Articles CGI\",\"4 Articles CGI\",\"5 Articles CGI\",\"Identifiant local\",\"Type de voie\",\"Voie\",\"B/T/Q\",\"Code voie\",\"Code postal\",\"Commune\",\"No voie\",\"Type local\"],axis=1)\n",
    "same=data.head(3)\n",
    "diff=data.head(5)\n",
    "print(data.head(1))"
   ],
   "outputs": [
    {
     "name": "stdout",
     "output_type": "stream",
     "text": [
      "   No disposition Date mutation Nature mutation  Valeur fonciere  \\\n",
      "0               1    05/01/2023           Vente        1070000.0   \n",
      "\n",
      "   Code departement  Code commune  Prefixe de section Section  No plan  \\\n",
      "0                 1           354                 NaN      BD      334   \n",
      "\n",
      "   No Volume  ... Surface Carrez du 4eme lot  5eme lot  \\\n",
      "0        NaN  ...                        NaN       NaN   \n",
      "\n",
      "  Surface Carrez du 5eme lot  Nombre de lots  Code type local  \\\n",
      "0                        NaN               1              3.0   \n",
      "\n",
      "   Surface reelle bati  Nombre pieces principales  Nature culture  \\\n",
      "0                  0.0                        0.0             NaN   \n",
      "\n",
      "   Nature culture speciale  Surface terrain  \n",
      "0                      NaN              NaN  \n",
      "\n",
      "[1 rows x 27 columns]\n"
     ]
    },
    {
     "name": "stderr",
     "output_type": "stream",
     "text": [
      "C:\\Users\\nico9\\AppData\\Local\\Temp\\ipykernel_20272\\687114383.py:1: DtypeWarning: Columns (24,26) have mixed types. Specify dtype option on import or set low_memory=False.\n",
      "  data=next(pd.read_csv(\"data/valeursfoncieres-2023.txt\",chunksize=100000,sep=\"|\",decimal=\",\"))\n"
     ]
    }
   ],
   "execution_count": 4
  },
  {
   "metadata": {
    "ExecuteTime": {
     "end_time": "2024-06-11T09:58:04.039666Z",
     "start_time": "2024-06-11T09:58:04.032377Z"
    }
   },
   "cell_type": "code",
   "source": [
    "def compare_column_values(df):\n",
    "    comparison_result = {}\n",
    "    for column in df.columns:\n",
    "        if df[column].nunique() == 1:\n",
    "            comparison_result[column] = 'Same'\n",
    "        else:\n",
    "            comparison_result[column] = 'Different'\n",
    "    return comparison_result\n",
    "\n",
    "# Compare the values in the selected subset\n",
    "comparison_result = compare_column_values(same)\n",
    "print(comparison_result)\n",
    "print(compare_column_values(diff))"
   ],
   "outputs": [
    {
     "name": "stdout",
     "output_type": "stream",
     "text": [
      "{'No disposition': 'Same', 'Date mutation': 'Same', 'Nature mutation': 'Same', 'Valeur fonciere': 'Same', 'Code departement': 'Same', 'Code commune': 'Same', 'Prefixe de section': 'Different', 'Section': 'Same', 'No plan': 'Different', 'No Volume': 'Different', '1er lot': 'Different', 'Surface Carrez du 1er lot': 'Different', '2eme lot': 'Different', 'Surface Carrez du 2eme lot': 'Different', '3eme lot': 'Different', 'Surface Carrez du 3eme lot': 'Different', '4eme lot': 'Different', 'Surface Carrez du 4eme lot': 'Different', '5eme lot': 'Different', 'Surface Carrez du 5eme lot': 'Different', 'Nombre de lots': 'Same', 'Code type local': 'Different', 'Surface reelle bati': 'Different', 'Nombre pieces principales': 'Different', 'Nature culture': 'Different', 'Nature culture speciale': 'Different', 'Surface terrain': 'Different'}\n",
      "{'No disposition': 'Same', 'Date mutation': 'Different', 'Nature mutation': 'Same', 'Valeur fonciere': 'Different', 'Code departement': 'Same', 'Code commune': 'Different', 'Prefixe de section': 'Different', 'Section': 'Different', 'No plan': 'Different', 'No Volume': 'Different', '1er lot': 'Different', 'Surface Carrez du 1er lot': 'Different', '2eme lot': 'Different', 'Surface Carrez du 2eme lot': 'Different', '3eme lot': 'Different', 'Surface Carrez du 3eme lot': 'Different', '4eme lot': 'Different', 'Surface Carrez du 4eme lot': 'Different', '5eme lot': 'Different', 'Surface Carrez du 5eme lot': 'Different', 'Nombre de lots': 'Different', 'Code type local': 'Different', 'Surface reelle bati': 'Different', 'Nombre pieces principales': 'Different', 'Nature culture': 'Same', 'Nature culture speciale': 'Different', 'Surface terrain': 'Different'}\n"
     ]
    }
   ],
   "execution_count": 5
  },
  {
   "metadata": {},
   "cell_type": "markdown",
   "source": "Les types des datas"
  },
  {
   "metadata": {},
   "cell_type": "code",
   "outputs": [
    {
     "name": "stdout",
     "output_type": "stream",
     "text": [
      "No disposition                  int64\n",
      "Date mutation                  object\n",
      "Nature mutation                object\n",
      "Valeur fonciere               float64\n",
      "Code departement                int64\n",
      "Code commune                    int64\n",
      "Prefixe de section            float64\n",
      "Section                        object\n",
      "No plan                         int64\n",
      "No Volume                     float64\n",
      "1er lot                        object\n",
      "Surface Carrez du 1er lot     float64\n",
      "2eme lot                       object\n",
      "Surface Carrez du 2eme lot    float64\n",
      "3eme lot                      float64\n",
      "Surface Carrez du 3eme lot    float64\n",
      "4eme lot                      float64\n",
      "Surface Carrez du 4eme lot    float64\n",
      "5eme lot                      float64\n",
      "Surface Carrez du 5eme lot    float64\n",
      "Nombre de lots                  int64\n",
      "Code type local               float64\n",
      "Surface reelle bati           float64\n",
      "Nombre pieces principales     float64\n",
      "Nature culture                 object\n",
      "Nature culture speciale        object\n",
      "Surface terrain               float64\n",
      "dtype: object\n"
     ]
    }
   ],
   "execution_count": 6,
   "source": "print(data.dtypes)"
  },
  {
   "metadata": {
    "ExecuteTime": {
     "end_time": "2024-06-11T10:03:04.549251Z",
     "start_time": "2024-06-11T10:03:04.537623Z"
    }
   },
   "cell_type": "code",
   "source": [
    "desired_id=\"1354BD05/01/2023\"\n",
    "transaction_info = aggregated_data[aggregated_data['Id'] == desired_id]\n",
    "\n",
    "# Display the information of the transaction\n",
    "print(transaction_info)"
   ],
   "outputs": [
    {
     "name": "stdout",
     "output_type": "stream",
     "text": [
      "      Code departement Code commune Prefixe de section Section Date mutation  \\\n",
      "10967                1          354                         BD    05/01/2023   \n",
      "\n",
      "       Valeur fonciere  Surface_combined  Code type local                Id  \n",
      "10967        1070000.0               0.0              2.0  1354BD05/01/2023  \n"
     ]
    }
   ],
   "execution_count": 14
  },
  {
   "metadata": {
    "ExecuteTime": {
     "end_time": "2024-06-11T09:58:45.563684Z",
     "start_time": "2024-06-11T09:58:45.543001Z"
    }
   },
   "cell_type": "code",
   "source": [
    "\n",
    "\n",
    "desired_id=\"12AC09/01/2023\"\n",
    "code_departement=\"1\"\n",
    "code_commune=\"2\"\n",
    "Section=\"AC\"\n",
    "Date_mutation=\"09/01/2023\"\n",
    "transaction_info = data[data['Code departement'] == int(code_departement)]\n",
    "transaction_info = transaction_info[transaction_info['Code commune'] == int(code_commune)]\n",
    "transaction_info = transaction_info[transaction_info['Section'] == Section]\n",
    "transaction_info = transaction_info[transaction_info['Date mutation'] == Date_mutation]\n",
    "\n",
    "#transaction_info = data[data['Code commune'] == int(code_commune)]\n",
    "\n",
    "print(transaction_info)\n",
    "\n"
   ],
   "outputs": [
    {
     "name": "stdout",
     "output_type": "stream",
     "text": [
      "     No disposition Date mutation Nature mutation  Valeur fonciere  \\\n",
      "369               1    09/01/2023           Vente           1000.0   \n",
      "\n",
      "     Code departement  Code commune  Prefixe de section Section  No plan  \\\n",
      "369                 1             2                 NaN      AC      490   \n",
      "\n",
      "     No Volume  ... Surface Carrez du 4eme lot  5eme lot  \\\n",
      "369        NaN  ...                        NaN       NaN   \n",
      "\n",
      "    Surface Carrez du 5eme lot  Nombre de lots  Code type local  \\\n",
      "369                        NaN               0              NaN   \n",
      "\n",
      "     Surface reelle bati  Nombre pieces principales  Nature culture  \\\n",
      "369                  NaN                        NaN               P   \n",
      "\n",
      "     Nature culture speciale  Surface terrain  \n",
      "369                      NaN           2950.0  \n",
      "\n",
      "[1 rows x 27 columns]\n"
     ]
    }
   ],
   "execution_count": 9
  },
  {
   "metadata": {
    "ExecuteTime": {
     "end_time": "2024-06-11T09:58:52.576551Z",
     "start_time": "2024-06-11T09:58:52.463174Z"
    }
   },
   "cell_type": "code",
   "source": [
    "# Replace NaN values with empty strings for string columns\n",
    "data['Code departement'] = data['Code departement'].fillna('')\n",
    "data['Code commune'] = data['Code commune'].fillna('')\n",
    "data['Prefixe de section'] = data['Prefixe de section'].fillna('')\n",
    "data['Section'] = data['Section'].fillna('')\n",
    "data['Date mutation'] = data['Date mutation'].fillna('')\n",
    "\n",
    "# Convert necessary columns to appropriate data types\n",
    "data['Surface terrain'] = data['Surface terrain'].astype(float)\n",
    "data['Surface reelle bati'] = data['Surface reelle bati'].astype(float)\n",
    "\n",
    "# Calculate combined surface\n",
    "data['Surface_combined'] = data['Surface terrain'] + data['Surface reelle bati']\n",
    "\n",
    "# Group by relevant columns and aggregate the data\n",
    "aggregated_data = data.groupby(['Code departement', 'Code commune', 'Prefixe de section', 'Section', 'Date mutation']).agg({\n",
    "    'Valeur fonciere': 'mean',\n",
    "    'Surface_combined': 'sum',\n",
    "    'Code type local': 'min'  \n",
    "}).reset_index()\n",
    "\n",
    "# Convert aggregated columns to appropriate data types\n",
    "aggregated_data['Code departement'] = aggregated_data['Code departement'].astype(str)\n",
    "aggregated_data['Code commune'] = aggregated_data['Code commune'].astype(str)\n",
    "aggregated_data['Prefixe de section'] = aggregated_data['Prefixe de section'].astype(str)\n",
    "aggregated_data['Section'] = aggregated_data['Section'].astype(str)\n",
    "aggregated_data['Date mutation'] = aggregated_data['Date mutation'].astype(str)\n",
    "\n",
    "# Calculate Id\n",
    "aggregated_data['Id'] = aggregated_data['Code departement'] + aggregated_data['Code commune'] + aggregated_data['Prefixe de section'] + aggregated_data['Section'] + aggregated_data['Date mutation']\n",
    "\n",
    "# Print the first few rows to verify the result\n",
    "print(aggregated_data.head())"
   ],
   "outputs": [
    {
     "name": "stdout",
     "output_type": "stream",
     "text": [
      "  Code departement Code commune Prefixe de section Section Date mutation  \\\n",
      "0                1            1                          A    13/11/2023   \n",
      "1                1            1                          A    29/11/2023   \n",
      "2                1            1                          A    31/08/2023   \n",
      "3                1            1                         ZC    01/12/2023   \n",
      "4                1            1                         ZH    07/06/2023   \n",
      "\n",
      "   Valeur fonciere  Surface_combined  Code type local              Id  \n",
      "0         420000.0            4755.0              1.0   11A13/11/2023  \n",
      "1         195000.0               0.0              NaN   11A29/11/2023  \n",
      "2           3050.0               0.0              NaN   11A31/08/2023  \n",
      "3         155000.0            5540.0              1.0  11ZC01/12/2023  \n",
      "4         210000.0            1057.0              1.0  11ZH07/06/2023  \n"
     ]
    }
   ],
   "execution_count": 10
  },
  {
   "metadata": {
    "ExecuteTime": {
     "end_time": "2024-06-11T09:58:58.334023Z",
     "start_time": "2024-06-11T09:58:58.314897Z"
    }
   },
   "cell_type": "code",
   "source": [
    "\n",
    "\n",
    "# Convert necessary columns to appropriate data types\n",
    "\n",
    "data['Valeur fonciere'] = data['Valeur fonciere'].astype(float)\n",
    "data['Surface terrain'] = data['Surface terrain'].astype(float)\n",
    "data['Surface reelle bati'] = data['Surface reelle bati'].astype(float)\n",
    "\n",
    "# Calculate combined surface\n",
    "data['Surface_combined'] = data['Surface terrain'] + data['Surface reelle bati']\n",
    "\n",
    "# Group by type and calculate average value\n",
    "average_values_by_type = data.groupby('Code type local')['Valeur fonciere'].mean()\n",
    "\n",
    "print(average_values_by_type)\n",
    "\n"
   ],
   "outputs": [
    {
     "name": "stdout",
     "output_type": "stream",
     "text": [
      "Code type local\n",
      "1.0    200472.323667\n",
      "2.0    227923.544511\n",
      "3.0    202089.704088\n",
      "4.0    461668.389799\n",
      "Name: Valeur fonciere, dtype: float64\n"
     ]
    }
   ],
   "execution_count": 11
  },
  {
   "metadata": {
    "ExecuteTime": {
     "end_time": "2024-06-11T09:59:03.109581Z",
     "start_time": "2024-06-11T09:59:03.103830Z"
    }
   },
   "cell_type": "code",
   "source": [
    "# Convert necessary columns to appropriate data types\n",
    "\n",
    "aggregated_data['Valeur fonciere'] = aggregated_data['Valeur fonciere'].astype(float)\n",
    "\n",
    "\n",
    "# Group by type and calculate average value\n",
    "average_values_by_departement = aggregated_data.groupby('Code departement')['Valeur fonciere'].mean()\n",
    "\n",
    "print(average_values_by_departement)"
   ],
   "outputs": [
    {
     "name": "stdout",
     "output_type": "stream",
     "text": [
      "Code departement\n",
      "1    227904.802932\n",
      "2    121465.017060\n",
      "3     96865.585903\n",
      "Name: Valeur fonciere, dtype: float64\n"
     ]
    }
   ],
   "execution_count": 12
  },
  {
   "metadata": {},
   "cell_type": "markdown",
   "source": "Interprétations et visualisations \n"
  },
  {
   "metadata": {
    "ExecuteTime": {
     "end_time": "2024-06-11T10:33:48.303918Z",
     "start_time": "2024-06-11T10:33:48.298403Z"
    }
   },
   "cell_type": "code",
   "source": "data['Prix_m2'] = data['Valeur fonciere'] / data['Surface_combined']",
   "outputs": [],
   "execution_count": 24
  },
  {
   "metadata": {
    "ExecuteTime": {
     "end_time": "2024-06-11T10:33:49.680114Z",
     "start_time": "2024-06-11T10:33:49.669288Z"
    }
   },
   "cell_type": "code",
   "source": "avg_price_per_department = data.groupby('Code departement')['Prix_m2'].mean().reset_index()",
   "outputs": [],
   "execution_count": 25
  },
  {
   "metadata": {
    "ExecuteTime": {
     "end_time": "2024-06-11T10:41:28.945487Z",
     "start_time": "2024-06-11T10:41:28.863061Z"
    }
   },
   "cell_type": "code",
   "source": [
    "plt.figure(figsize=(10, 6))\n",
    "sns.barplot(x='Code departement', y='Prix_m2', data=avg_price_per_department)\n",
    "plt.title('Prix moyen par mètre carré par département en 2023')\n",
    "plt.xlabel('Code département')\n",
    "plt.ylabel('Prix par mètre carré (€)')\n",
    "plt.xticks(rotation=90)\n",
    "plt.show()"
   ],
   "outputs": [
    {
     "data": {
      "text/plain": [
       "<Figure size 1000x600 with 1 Axes>"
      ],
      "image/png": "[encoded data removed]"
     },
     "metadata": {},
     "output_type": "display_data"
    }
   ],
   "execution_count": 34
  },
  {
   "metadata": {},
   "cell_type": "markdown",
   "source": [
    "\n",
    "\n",
    "Prix moyen par type de propriété\n"
   ]
  },
  {
   "metadata": {},
   "cell_type": "code",
   "outputs": [],
   "execution_count": 27,
   "source": "avg_price_by_type = data.groupby('Code type local')['Prix_m2'].mean().reset_index()"
  },
  {
   "metadata": {
    "ExecuteTime": {
     "end_time": "2024-06-11T10:38:50.553719Z",
     "start_time": "2024-06-11T10:38:50.454163Z"
    }
   },
   "cell_type": "code",
   "source": [
    "plt.figure(figsize=(10, 6))\n",
    "sns.barplot(x='Code type local', y='Prix_m2', data=avg_price_by_type)\n",
    "plt.title('Prix moyen par mètre carré en fonction du type de propriété en 2023')\n",
    "plt.xlabel('Code type local')\n",
    "plt.ylabel('Prix par mètre carré en euros')\n",
    "plt.legend(['1.0 : maison',\n",
    "           '2.0 : appartement',\n",
    "           '3.0 : dépendance',\n",
    "           '4.0 : local industriel'], loc = \"upper left\")\n",
    "plt.show()"
   ],
   "outputs": [
    {
     "data": {
      "text/plain": [
       "<Figure size 1000x600 with 1 Axes>"
      ],
      "image/png": "[encoded data removed]"
     },
     "metadata": {},
     "output_type": "display_data"
    }
   ],
   "execution_count": 33
  },
  {
   "metadata": {},
   "cell_type": "code",
   "outputs": [],
   "execution_count": null,
   "source": ""
  }
 ],
 "metadata": {
  "language_info": {
   "name": "python"
  },
  "kernelspec": {
   "name": "python3",
   "language": "python",
   "display_name": "Python 3 (ipykernel)"
  }
 },
 "nbformat": 4,
 "nbformat_minor": 2
}
